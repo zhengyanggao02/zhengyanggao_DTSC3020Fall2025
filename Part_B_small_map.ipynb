{
  "nbformat": 4,
  "nbformat_minor": 0,
  "metadata": {
    "colab": {
      "provenance": [],
      "authorship_tag": "ABX9TyM95qSeyqTBpRDt1GxhxBjA",
      "include_colab_link": true
    },
    "kernelspec": {
      "name": "python3",
      "display_name": "Python 3"
    },
    "language_info": {
      "name": "python"
    }
  },
  "cells": [
    {
      "cell_type": "markdown",
      "metadata": {
        "id": "view-in-github",
        "colab_type": "text"
      },
      "source": [
        "<a href=\"https://colab.research.google.com/github/zhengyanggao02/zhengyanggao_DTSC3020Fall2025/blob/main/Part_B_small_map.ipynb\" target=\"_parent\"><img src=\"https://colab.research.google.com/assets/colab-badge.svg\" alt=\"Open In Colab\"/></a>"
      ]
    },
    {
      "cell_type": "code",
      "execution_count": 9,
      "metadata": {
        "id": "6eZzlb7QyOrw"
      },
      "outputs": [],
      "source": [
        "import networkx as nx\n",
        "import random\n",
        "from collections import defaultdict\n",
        "\n",
        "# 1) Small_map_edges\n",
        "edges_small = [\n",
        "    (0, 2, 11),\n",
        "    (0, 4, 7),\n",
        "    (2, 1, 4),\n",
        "    (2, 3, 9),\n",
        "    (3, 4, 3),\n",
        "]\n",
        "\n",
        "F = 0.8\n",
        "TRIPS = 2000\n",
        "TOP_K = 3\n",
        "SEED = 42\n",
        "random.seed(SEED)"
      ]
    },
    {
      "cell_type": "code",
      "source": [
        "# 2) Construct_the_graphics\n",
        "G = nx.Graph()\n",
        "for u, v, w in edges_small:\n",
        "    G.add_edge(u, v, weight=w)\n",
        "\n",
        "nodes = list(G.nodes())"
      ],
      "metadata": {
        "id": "DrBKSEEyLUma"
      },
      "execution_count": 10,
      "outputs": []
    },
    {
      "cell_type": "code",
      "source": [
        "# 3) Simulated_travel\n",
        "pair_flow = defaultdict(int)\n",
        "for _ in range(TRIPS):\n",
        "    s, t = random.sample(nodes, 2)\n",
        "    _ = nx.dijkstra_path(G, s, t, weight='weight')\n",
        "    pair_flow[(s, t)] += 1"
      ],
      "metadata": {
        "id": "DOs0OROuLbsO"
      },
      "execution_count": 11,
      "outputs": []
    },
    {
      "cell_type": "code",
      "source": [
        "# 4) The_shortest_distance\n",
        "def all_pairs_dist(G):\n",
        "    dist = {}\n",
        "    for src, d in nx.all_pairs_dijkstra_path_length(G, weight='weight'):\n",
        "        for dst, val in d.items():\n",
        "            dist[(src, dst)] = val\n",
        "    return dist\n",
        "\n",
        "dist = all_pairs_dist(G)"
      ],
      "metadata": {
        "id": "uBpiT_G3LjJV"
      },
      "execution_count": 12,
      "outputs": []
    },
    {
      "cell_type": "code",
      "source": [
        "# 5) Candidate_new_path_benefits\n",
        "benefit = {}\n",
        "existing = set((min(u, v), max(u, v)) for u, v in G.edges())\n",
        "\n",
        "for i in range(len(nodes)):\n",
        "    for j in range(i + 1, len(nodes)):\n",
        "        x, y = nodes[i], nodes[j]\n",
        "        if (x, y) in existing:\n",
        "            continue\n",
        "        sp = dist[(x, y)]\n",
        "        flow = pair_flow.get((x, y), 0) + pair_flow.get((y, x), 0)\n",
        "        if flow <= 0:\n",
        "            continue\n",
        "        new_len = F * sp\n",
        "        benefit[(x, y)] = (sp - new_len) * flow"
      ],
      "metadata": {
        "id": "hGPXE0F0Lpal"
      },
      "execution_count": 13,
      "outputs": []
    },
    {
      "cell_type": "code",
      "source": [
        "# 6) Evaluate_new_paths\n",
        "chosen = []\n",
        "for _ in range(TOP_K):\n",
        "    if not benefit:\n",
        "        break\n",
        "    (x, y), _ = max(benefit.items(), key=lambda kv: kv[1])\n",
        "    sp = dist[(x, y)]\n",
        "    new_w = F * sp\n",
        "    G.add_edge(x, y, weight=new_w)\n",
        "    chosen.append((x, y, new_w))\n",
        "    dist = all_pairs_dist(G)\n",
        "    benefit = {}"
      ],
      "metadata": {
        "id": "Trso9kz5LuQ1"
      },
      "execution_count": 14,
      "outputs": []
    },
    {
      "cell_type": "code",
      "source": [
        "# 7) Before/After_average_distance\n",
        "def avg_shortest(G):\n",
        "    dist = all_pairs_dist(G)\n",
        "    total, cnt = 0.0, 0\n",
        "    for i in nodes:\n",
        "        for j in nodes:\n",
        "            if i == j: continue\n",
        "            total += dist[(i, j)]\n",
        "            cnt += 1\n",
        "    return total / cnt\n",
        "\n",
        "G_before = nx.Graph()\n",
        "for u, v, w in edges_small:\n",
        "    G_before.add_edge(u, v, weight=w)\n",
        "\n",
        "G_after = G_before.copy()\n",
        "for x, y, w in chosen:\n",
        "    G_after.add_edge(x, y, weight=w)\n",
        "\n",
        "avg_before = avg_shortest(G_before)\n",
        "avg_after = avg_shortest(G_after)"
      ],
      "metadata": {
        "id": "HrWL8HB8Lzgk"
      },
      "execution_count": 15,
      "outputs": []
    },
    {
      "cell_type": "code",
      "source": [
        "# 8) Outcomes\n",
        "print(\"=\"*60)\n",
        "print(\"R3 —— Recommend a new path：\")\n",
        "if chosen:\n",
        "    for x, y, w in chosen:\n",
        "        print(f\"  - ({x}, {y}), weight = {w:.2f}\")\n",
        "else:\n",
        "    print(\"  - No candidates\")\n",
        "\n",
        "print(\"\\nR4 —— Average shortest distance comparison：\")\n",
        "print(f\"  - Before: {avg_before:.4f}\")\n",
        "print(f\"  - After: {avg_after:.4f}\")\n",
        "print(f\"  - Improve: {avg_before - avg_after:.4f}\")\n",
        "\n",
        "print(\"\\nR5 —— Conclusion：\")\n",
        "if chosen:\n",
        "    print(\"  - After the addition of new roads, the average shortest distance decreased and network connectivity improved.\")\n",
        "else:\n",
        "    print(\"  - For new paths where no significant benefits have been found, one can attempt to adjust F or add TRIPS.\")\n",
        "print(\"=\"*60)"
      ],
      "metadata": {
        "colab": {
          "base_uri": "https://localhost:8080/",
          "height": 0
        },
        "id": "PhD4GMvzL352",
        "outputId": "a67fa628-bf58-4170-b69a-c1326f3ea4a4"
      },
      "execution_count": 16,
      "outputs": [
        {
          "output_type": "stream",
          "name": "stdout",
          "text": [
            "============================================================\n",
            "R3 —— Recommend a new path：\n",
            "  - (4, 1), weight = 12.80\n",
            "\n",
            "R4 —— Average shortest distance comparison：\n",
            "  - Before: 10.0000\n",
            "  - After: 9.6800\n",
            "  - Improve: 0.3200\n",
            "\n",
            "R5 —— Conclusion：\n",
            "  - After the addition of new roads, the average shortest distance decreased and network connectivity improved.\n",
            "============================================================\n"
          ]
        }
      ]
    }
  ]
}