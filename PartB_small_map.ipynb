{
  "nbformat": 4,
  "nbformat_minor": 0,
  "metadata": {
    "colab": {
      "provenance": [],
      "authorship_tag": "ABX9TyP4vQwdntZyXA/xSjrWpkVZ",
      "include_colab_link": true
    },
    "kernelspec": {
      "name": "python3",
      "display_name": "Python 3"
    },
    "language_info": {
      "name": "python"
    }
  },
  "cells": [
    {
      "cell_type": "markdown",
      "metadata": {
        "id": "view-in-github",
        "colab_type": "text"
      },
      "source": [
        "<a href=\"https://colab.research.google.com/github/zhengyanggao02/zhengyanggao_DTSC3020Fall2025/blob/main/PartB_small_map.ipynb\" target=\"_parent\"><img src=\"https://colab.research.google.com/assets/colab-badge.svg\" alt=\"Open In Colab\"/></a>"
      ]
    },
    {
      "cell_type": "code",
      "execution_count": 1,
      "metadata": {
        "id": "NBgEkW2FfnpQ"
      },
      "outputs": [],
      "source": [
        "import networkx as nx\n",
        "import random\n",
        "\n",
        "random.seed(1000)\n",
        "\n",
        "# 1. small graph edges\n",
        "edges_small = [\n",
        "    (0, 2, 11),\n",
        "    (0, 4, 7),\n",
        "    (2, 1, 4),\n",
        "    (2, 3, 9),\n",
        "    (3, 4, 3),\n",
        "]\n",
        "\n",
        "F = 0.8\n",
        "New_path_n = 3\n",
        "\n",
        "Trips_per_sec = 100\n",
        "Sim_seconds   = 3600\n",
        "Total_trips   = Trips_per_sec * Sim_seconds"
      ]
    },
    {
      "cell_type": "code",
      "source": [
        "# 2. build the graph\n",
        "G = nx.Graph()\n",
        "for u, v, w in edges_small:\n",
        "    G.add_edge(u, v, length=w)\n",
        "\n",
        "node_list = [0, 1, 2, 3, 4]"
      ],
      "metadata": {
        "id": "RRm1pUv0gAy2"
      },
      "execution_count": 2,
      "outputs": []
    },
    {
      "cell_type": "code",
      "source": [
        "# 3. simulate trips per spec: 100/sec for 3600 sec\n",
        "pair_flow = {}\n",
        "\n",
        "for _sec in range(Sim_seconds):\n",
        "    for _ in range(Trips_per_sec):\n",
        "        s, t = random.sample(node_list, 2)\n",
        "        _ = nx.dijkstra_path(G, s, t, weight='length')\n",
        "        if (s, t) not in pair_flow:\n",
        "            pair_flow[(s, t)] = 0\n",
        "        pair_flow[(s, t)] += 1"
      ],
      "metadata": {
        "id": "Lzzj4i8pgHdK"
      },
      "execution_count": 3,
      "outputs": []
    },
    {
      "cell_type": "code",
      "source": [
        "# 4. all-pairs shortest path distances\n",
        "def all_pairs_dist(graph):\n",
        "    dist = {}\n",
        "    for src, d in nx.all_pairs_dijkstra_path_length(graph, weight='length'):\n",
        "        for dst, val in d.items():\n",
        "            dist[(src, dst)] = val\n",
        "    return dist\n",
        "\n",
        "dist_dict = all_pairs_dist(G)"
      ],
      "metadata": {
        "id": "grqAffTmgmUm"
      },
      "execution_count": 4,
      "outputs": []
    },
    {
      "cell_type": "code",
      "source": [
        "# 5. benefit for possible new roads (only pairs without a direct edge)\n",
        "benefit_dict = {}\n",
        "existing_edges = set((min(u, v), max(u, v)) for u, v in G.edges())\n",
        "\n",
        "for i in range(len(node_list)):\n",
        "    for j in range(i + 1, len(node_list)):\n",
        "        if (i, j) in existing_edges:\n",
        "            continue\n",
        "        sp = dist_dict[(i, j)]\n",
        "        flow = pair_flow.get((i, j), 0) + pair_flow.get((j, i), 0)\n",
        "        if flow <= 0:\n",
        "            continue\n",
        "        new_len = F * sp\n",
        "        benefit_dict[(i, j)] = (sp - new_len) * flow"
      ],
      "metadata": {
        "id": "JXQSR82LgwgB"
      },
      "execution_count": 5,
      "outputs": []
    },
    {
      "cell_type": "code",
      "source": [
        "# 6. greedy pick of new roads\n",
        "chosen_paths = []\n",
        "for _ in range(New_path_n):\n",
        "    if not benefit_dict:\n",
        "        break\n",
        "    (x, y), _ = max(benefit_dict.items(), key=lambda kv: kv[1])\n",
        "    sp = dist_dict[(x, y)]\n",
        "    new_L = F * sp\n",
        "    G.add_edge(x, y, length=new_L)\n",
        "    chosen_paths.append((x, y, new_L))\n",
        "    dist_dict = all_pairs_dist(G)\n",
        "    benefit_dict = {}"
      ],
      "metadata": {
        "id": "mcla32JDhu0o"
      },
      "execution_count": 6,
      "outputs": []
    },
    {
      "cell_type": "code",
      "source": [
        "# 7. average shortest path length (before/after)\n",
        "def avg_shortest(graph):\n",
        "    d = all_pairs_dist(graph)\n",
        "    total, cnt = 0.0, 0\n",
        "    for a in node_list:\n",
        "        for b in node_list:\n",
        "            if a == b:\n",
        "                continue\n",
        "            total += d[(a, b)]\n",
        "            cnt += 1\n",
        "    return total / cnt\n",
        "\n",
        "G_before = nx.Graph()\n",
        "for u, v, w in edges_small:\n",
        "    G_before.add_edge(u, v, length=w)\n",
        "\n",
        "G_after = G_before.copy()\n",
        "for x, y, L in chosen_paths:\n",
        "    G_after.add_edge(x, y, length=L)\n",
        "\n",
        "avg_before = avg_shortest(G_before)\n",
        "avg_after  = avg_shortest(G_after)"
      ],
      "metadata": {
        "id": "Zx1zwNE2iFY0"
      },
      "execution_count": 7,
      "outputs": []
    },
    {
      "cell_type": "code",
      "source": [
        "# 8. print\n",
        "print(\"R3 — suggested new roads:\")\n",
        "if chosen_paths:\n",
        "    for x, y, L in chosen_paths:\n",
        "        print(f\"  - ({x}, {y}), length = {L:.2f}\")\n",
        "else:\n",
        "    print(\"  - none\")\n",
        "\n",
        "print(\"\\nR4 — avg shortest path length:\")\n",
        "print(f\"  - before: {avg_before:.4f}\")\n",
        "print(f\"  - after : {avg_after:.4f}\")\n",
        "print(f\"  - improve: {avg_before - avg_after:.4f}\")\n",
        "\n",
        "print(\"\\nR5 — conclusion:\")\n",
        "if chosen_paths:\n",
        "    print(\"  - after adding new road(s), average distance went down a bit.\")\n",
        "else:\n",
        "    print(\"  - no useful new road found, maybe tweak F or increase trips.\")"
      ],
      "metadata": {
        "colab": {
          "base_uri": "https://localhost:8080/"
        },
        "id": "Rr9jTT10iRO9",
        "outputId": "bf86bcf9-cdac-4180-c22c-477056435343"
      },
      "execution_count": 8,
      "outputs": [
        {
          "output_type": "stream",
          "name": "stdout",
          "text": [
            "R3 — suggested new roads:\n",
            "  - (1, 4), length = 12.80\n",
            "\n",
            "R4 — avg shortest path length:\n",
            "  - before: 10.0000\n",
            "  - after : 9.6800\n",
            "  - improve: 0.3200\n",
            "\n",
            "R5 — conclusion:\n",
            "  - after adding new road(s), average distance went down a bit.\n"
          ]
        }
      ]
    }
  ]
}