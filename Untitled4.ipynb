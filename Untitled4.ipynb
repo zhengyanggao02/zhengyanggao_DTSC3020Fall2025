{
  "nbformat": 4,
  "nbformat_minor": 0,
  "metadata": {
    "colab": {
      "provenance": [],
      "authorship_tag": "ABX9TyOdockCrblJoB0XSJa+rfZr",
      "include_colab_link": true
    },
    "kernelspec": {
      "name": "python3",
      "display_name": "Python 3"
    },
    "language_info": {
      "name": "python"
    }
  },
  "cells": [
    {
      "cell_type": "markdown",
      "metadata": {
        "id": "view-in-github",
        "colab_type": "text"
      },
      "source": [
        "<a href=\"https://colab.research.google.com/github/zhengyanggao02/zhengyanggao_DTSC3020Fall2025/blob/main/Untitled4.ipynb\" target=\"_parent\"><img src=\"https://colab.research.google.com/assets/colab-badge.svg\" alt=\"Open In Colab\"/></a>"
      ]
    },
    {
      "cell_type": "code",
      "execution_count": 1,
      "metadata": {
        "colab": {
          "base_uri": "https://localhost:8080/"
        },
        "id": "5Wp6Mt56UhOH",
        "outputId": "f6d3a126-5869-4c3e-b917-04f61ba3d082"
      },
      "outputs": [
        {
          "output_type": "stream",
          "name": "stdout",
          "text": [
            "SPAM | Win a free iPhone now!!! Click this link\n",
            "HAM | Professor, I submitted Phase 1 report yesterday.\n",
            "SPAM | URGENT! Your bank account has been locked, verify here.\n"
          ]
        }
      ],
      "source": [
        "from sklearn.pipeline import Pipeline\n",
        "from sklearn.feature_extraction.text import TfidfVectorizer\n",
        "from sklearn.naive_bayes import MultinomialNB\n",
        "\n",
        "# Build a simple pipeline: TF-IDF + Naive Bayes\n",
        "clf = Pipeline([\n",
        "    (\"tfidf\", TfidfVectorizer(stop_words=\"english\")),\n",
        "    (\"nb\", MultinomialNB()),\n",
        "])\n",
        "\n",
        "# Small training set for demo\n",
        "X = [\n",
        "    \"Claim your free prize now!!!\",\n",
        "    \"Congratulations, you won a lottery click here\",\n",
        "    \"Your account was compromised, verify password here\",\n",
        "    \"Call me when you arrive home\",\n",
        "    \"Let's schedule a meeting for tomorrow morning\",\n",
        "    \"Lunch at 12 sounds good to me\",\n",
        "]\n",
        "y = [\"spam\", \"spam\", \"spam\", \"ham\", \"ham\", \"ham\"]\n",
        "\n",
        "clf.fit(X, y)\n",
        "\n",
        "# Test samples\n",
        "samples = [\n",
        "    \"Win a free iPhone now!!! Click this link\",\n",
        "    \"Professor, I submitted Phase 1 report yesterday.\",\n",
        "    \"URGENT! Your bank account has been locked, verify here.\",\n",
        "]\n",
        "\n",
        "for s, p in zip(samples, clf.predict(samples)):\n",
        "    print(p.upper(), \"|\", s)"
      ]
    }
  ]
}