{
  "nbformat": 4,
  "nbformat_minor": 0,
  "metadata": {
    "colab": {
      "provenance": [],
      "authorship_tag": "ABX9TyNexbvftlFJSius28RDBa/d",
      "include_colab_link": true
    },
    "kernelspec": {
      "name": "python3",
      "display_name": "Python 3"
    },
    "language_info": {
      "name": "python"
    }
  },
  "cells": [
    {
      "cell_type": "markdown",
      "metadata": {
        "id": "view-in-github",
        "colab_type": "text"
      },
      "source": [
        "<a href=\"https://colab.research.google.com/github/zhengyanggao02/zhengyanggao_DTSC3020Fall2025/blob/main/Part_2_R3%2C_R4%2C_R5_Fall2025.ipynb\" target=\"_parent\"><img src=\"https://colab.research.google.com/assets/colab-badge.svg\" alt=\"Open In Colab\"/></a>"
      ]
    },
    {
      "cell_type": "code",
      "source": [
        "# Generate a random graph\n",
        "import networkx as nx\n",
        "N = 60\n",
        "p = 0.07\n",
        "SEED = 1000\n",
        "k = 3\n",
        "f = 0.6\n",
        "G = nx.gnp_random_graph(N, p, seed=SEED)\n",
        "print(\"Connected =\", nx.is_connected(G))"
      ],
      "metadata": {
        "colab": {
          "base_uri": "https://localhost:8080/"
        },
        "id": "AEjLWZv7BqJ0",
        "outputId": "23f16482-5a64-4e3f-a2cc-7cb17dba863e"
      },
      "execution_count": null,
      "outputs": [
        {
          "output_type": "stream",
          "name": "stdout",
          "text": [
            "Connected = True\n"
          ]
        }
      ]
    },
    {
      "cell_type": "code",
      "source": [
        "# Define the length range of the edge\n",
        "import random\n",
        "for u, v in G.edges(): G[u][v][\"weight\"] = random.randint(5, 25)"
      ],
      "metadata": {
        "id": "mUfMAT3jDSdn"
      },
      "execution_count": null,
      "outputs": []
    },
    {
      "cell_type": "code",
      "source": [
        "# Simulate traffic\n",
        "from collections import Counter\n",
        "import random\n",
        "\n",
        "def simulate_od_pairs(G, T=100, seconds=36000, seed=1000, sample=1.0):\n",
        "    rng = random.Random(seed)\n",
        "    nodes = list(G.nodes())\n",
        "    trips = int(T * seconds * sample)\n",
        "\n",
        "    return Counter(tuple(sorted(rng.sample(nodes, 2))) for _ in range(trips))\n",
        "\n",
        "traffic = simulate_od_pairs(G, T=100, seconds=36_000, sample=1.0)"
      ],
      "metadata": {
        "id": "CGfgRm3PEg3-"
      },
      "execution_count": null,
      "outputs": []
    },
    {
      "cell_type": "code",
      "source": [
        "# find path\n",
        "candidates = [pair for pair in traffic.keys() if not G.has_edge(*pair)]"
      ],
      "metadata": {
        "id": "BSVWltf_HXqV"
      },
      "execution_count": null,
      "outputs": []
    },
    {
      "cell_type": "code",
      "source": [
        "# shortest path\n",
        "def sp_len(u, v):\n",
        "    a, b = (u, v) if u < v else (v, u)\n",
        "    return nx.astar_path_length(G, a, b, weight=\"weight\")"
      ],
      "metadata": {
        "id": "xRGDT4ysJgnh"
      },
      "execution_count": null,
      "outputs": []
    },
    {
      "cell_type": "code",
      "source": [
        "# compute benefits\n",
        "def benefit_of(u, v, f):\n",
        "    cnt = traffic.get((u, v) if u < v else (v, u), 0)\n",
        "    if cnt == 0:\n",
        "        return 0\n",
        "    s = sp_len(u, v)\n",
        "    return int((1 - f) * s * cnt)\n",
        "\n",
        "benefits = {e: benefit_of(e[0], e[1], f) for e in candidates}"
      ],
      "metadata": {
        "id": "C4O62TawK6MP"
      },
      "execution_count": null,
      "outputs": []
    },
    {
      "cell_type": "code",
      "source": [
        "# select top3\n",
        "top3_R3 = sorted(benefits.items(), key=lambda x: x[1], reverse=True)[:k]\n",
        "print(\"Recommended:\")\n",
        "for (u,v), b in top3_R3:\n",
        "    print(f\"  {(u,v)}  benefit={b}\")"
      ],
      "metadata": {
        "colab": {
          "base_uri": "https://localhost:8080/"
        },
        "id": "xvoLqv7GLFqw",
        "outputId": "2393c8f7-b2cb-4760-c369-732bfc1d4cd7"
      },
      "execution_count": null,
      "outputs": [
        {
          "output_type": "stream",
          "name": "stdout",
          "text": [
            "Recommended:\n",
            "  (26, 50)  benefit=63763\n",
            "  (26, 40)  benefit=63324\n",
            "  (9, 29)  benefit=63304\n"
          ]
        }
      ]
    },
    {
      "cell_type": "code",
      "source": [
        "# R4：For the same image and the same traffic, only change f\n",
        "f = 0.8\n",
        "benefits = {e: benefit_of(e[0], e[1], f) for e in candidates}\n",
        "top3_R4 = sorted(benefits.items(), key=lambda x: x[1], reverse=True)[:k]\n",
        "print(\"Recommonded （f=0.8）:\")\n",
        "for (u, v), b in top3_R4:\n",
        "    print(f\"  {(u, v)}  benefit={b}\")"
      ],
      "metadata": {
        "colab": {
          "base_uri": "https://localhost:8080/"
        },
        "id": "zO5WJJQBNyDM",
        "outputId": "a01e6c8e-413a-4163-9e7f-1a7a838684d0"
      },
      "execution_count": null,
      "outputs": [
        {
          "output_type": "stream",
          "name": "stdout",
          "text": [
            "Recommonded （f=0.8）:\n",
            "  (26, 50)  benefit=31881\n",
            "  (26, 40)  benefit=31662\n",
            "  (9, 29)  benefit=31652\n"
          ]
        }
      ]
    },
    {
      "cell_type": "code",
      "source": [
        "# R5：P-doubled reconstruction image and re-simulation\n",
        "p = 0.14\n",
        "f = 0.6\n",
        "G = nx.gnp_random_graph(N, p, seed=SEED)\n",
        "print(\"Connected =\", nx.is_connected(G))\n",
        "\n",
        "import random\n",
        "for u, v in G.edges(): G[u][v][\"weight\"] = random.randint(5, 25)\n",
        "\n",
        "from collections import Counter\n",
        "import random\n",
        "\n",
        "def simulate_od_pairs(G, T=100, seconds=36000, seed=1000, sample=1.0):\n",
        "    rng = random.Random(seed)\n",
        "    nodes = list(G.nodes())\n",
        "    trips = int(T * seconds * sample)\n",
        "\n",
        "    return Counter(tuple(sorted(rng.sample(nodes, 2))) for _ in range(trips))\n",
        "\n",
        "traffic = simulate_od_pairs(G, T=100, seconds=36_000, sample=1.0)\n",
        "\n",
        "candidates = [pair for pair in traffic.keys() if not G.has_edge(*pair)]\n",
        "\n",
        "def sp_len(u, v):\n",
        "    a, b = (u, v) if u < v else (v, u)\n",
        "    return nx.astar_path_length(G, a, b, weight=\"weight\")\n",
        "\n",
        "def benefit_of(u, v, f):\n",
        "    cnt = traffic.get((u, v) if u < v else (v, u), 0)\n",
        "    if cnt == 0:\n",
        "        return 0\n",
        "    s = sp_len(u, v)\n",
        "    return int((1 - f) * s * cnt)\n",
        "\n",
        "benefits = {e: benefit_of(e[0], e[1], f) for e in candidates}\n",
        "\n",
        "top3_R4 = sorted(benefits.items(), key=lambda x: x[1], reverse=True)[:k]\n",
        "print(\"Recommended（p = 0.14）:\")\n",
        "for (u,v), b in top3_R4:\n",
        "    print(f\"  {(u,v)}  benefit={b}\")"
      ],
      "metadata": {
        "colab": {
          "base_uri": "https://localhost:8080/"
        },
        "id": "SkcBGrCRPueo",
        "outputId": "11c7b92c-cf70-4a18-c2e2-45c68e6be2d6"
      },
      "execution_count": null,
      "outputs": [
        {
          "output_type": "stream",
          "name": "stdout",
          "text": [
            "Connected = True\n",
            "Recommended（p = 0.14）:\n",
            "  (14, 53)  benefit=42800\n",
            "  (1, 50)  benefit=39014\n",
            "  (50, 53)  benefit=38934\n"
          ]
        }
      ]
    }
  ]
}